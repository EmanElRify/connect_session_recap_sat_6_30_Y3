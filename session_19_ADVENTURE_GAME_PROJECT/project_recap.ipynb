{
 "cells": [
  {
   "cell_type": "code",
   "execution_count": 5,
   "id": "86bc1dce",
   "metadata": {},
   "outputs": [
    {
     "name": "stdout",
     "output_type": "stream",
     "text": [
      "dgdfgvsdfsijalkjzklzlkxmlzkmlzdxjmklsdcsd\n",
      "Hesdfdhbvglcsijkfjknjnlnklo\n",
      "Heszjnxkjcnzxjkcnzxjkcjkxcndfdchbvjhllo\n",
      "Hello\n",
      "Hello\n",
      "Hello\n",
      "Hello\n",
      "Hello\n"
     ]
    }
   ],
   "source": [
    "# The game gives players a description of what is happening.\n",
    "# pause between print statement\n",
    "import time\n",
    "\n",
    "\n",
    "def print_pause(msg):\n",
    "    print(msg)\n",
    "    time.sleep(1)\n",
    "\n",
    "t = 1\n",
    "print(\"dgdfgvsdfsijalkjzklzlkxmlzkmlzdxjmklsdcsd\")\n",
    "time.sleep(t)\n",
    "print(\"Hesdfdhbvglcsijkfjknjnlnklo\")\n",
    "time.sleep(t)\n",
    "print(\"Heszjnxkjcnzxjkcnzxjkcjkxcndfdchbvjhllo\")\n",
    "time.sleep(t)\n",
    "print(\"Hello\")\n",
    "time.sleep(t)\n",
    "print(\"Hello\")\n",
    "time.sleep(t)\n",
    "print(\"Hello\")\n",
    "time.sleep(t)\n",
    "print(\"Hello\")\n",
    "time.sleep(t)\n",
    "print(\"Hello\")\n",
    "time.sleep(t)\n"
   ]
  },
  {
   "cell_type": "code",
   "execution_count": null,
   "id": "891e9e82",
   "metadata": {},
   "outputs": [
    {
     "name": "stdout",
     "output_type": "stream",
     "text": [
      "Hello\n",
      "Hello\n",
      "Hello\n",
      "Hello\n",
      "Hello\n",
      "Hello\n",
      "Hello\n",
      "Hello\n",
      "Hello\n"
     ]
    }
   ],
   "source": [
    "def print_pause(msg):\n",
    "    print(msg)\n",
    "    time.sleep(1)\n",
    "\n",
    "print_pause(\"Hello\")\n",
    "print_pause(\"Hello\")\n",
    "print_pause(\"Hello\")\n",
    "print_pause(\"Hello\")\n",
    "print_pause(\"Hello\")\n",
    "print_pause(\"Hello\")\n",
    "print_pause(\"Hello\")\n",
    "print_pause(\"Hello\")\n",
    "print_pause(\"Hello\")"
   ]
  },
  {
   "cell_type": "code",
   "execution_count": 8,
   "id": "25327c0b",
   "metadata": {},
   "outputs": [
    {
     "name": "stdout",
     "output_type": "stream",
     "text": [
      "Hello\n"
     ]
    }
   ],
   "source": [
    "\n",
    "def print_with_pause(msg):\n",
    "    print(msg)\n",
    "    time.sleep(1)\n",
    "    \n",
    "print_with_pause(\"Hello\")\n",
    "\n",
    "\n"
   ]
  },
  {
   "cell_type": "code",
   "execution_count": null,
   "id": "1361173e",
   "metadata": {},
   "outputs": [],
   "source": [
    "def yassin_function(msg):\n",
    "    # this function display text with time pause\n",
    "    print(msg)\n",
    "    time.sleep(1)\n",
    "\n",
    "yassin_function(\"hello\")\n",
    "\n",
    "yassin_function(\"hello\")\n",
    "\n",
    "yassin_function(\"hello\")\n"
   ]
  },
  {
   "cell_type": "code",
   "execution_count": null,
   "id": "f28e38d8",
   "metadata": {},
   "outputs": [
    {
     "name": "stdout",
     "output_type": "stream",
     "text": [
      "hello\n",
      "world\n"
     ]
    }
   ],
   "source": [
    "def print_multiple_msg(*msgs):\n",
    "    # this is a variadic function\n",
    "    for msg in msgs:\n",
    "        print(msg)\n",
    "        time.sleep(1)\n",
    "\n",
    "print_multiple_msg(\"hello\", 'world')"
   ]
  },
  {
   "cell_type": "code",
   "execution_count": null,
   "id": "749e3a2f",
   "metadata": {},
   "outputs": [],
   "source": [
    "for i in range(0,):\n",
    "    print(0)\n"
   ]
  },
  {
   "cell_type": "code",
   "execution_count": 13,
   "id": "367fce9a",
   "metadata": {},
   "outputs": [],
   "source": [
    "import random\n",
    "import time"
   ]
  },
  {
   "cell_type": "code",
   "execution_count": null,
   "id": "a6935c03",
   "metadata": {},
   "outputs": [
    {
     "name": "stdout",
     "output_type": "stream",
     "text": [
      "Hello\n",
      "Hello\n"
     ]
    }
   ],
   "source": [
    "print(\"Hello\")\n",
    "print('Hello')"
   ]
  },
  {
   "cell_type": "code",
   "execution_count": null,
   "id": "f92f360a",
   "metadata": {},
   "outputs": [],
   "source": [
    "\n"
   ]
  }
 ],
 "metadata": {
  "kernelspec": {
   "display_name": "Python 3",
   "language": "python",
   "name": "python3"
  },
  "language_info": {
   "codemirror_mode": {
    "name": "ipython",
    "version": 3
   },
   "file_extension": ".py",
   "mimetype": "text/x-python",
   "name": "python",
   "nbconvert_exporter": "python",
   "pygments_lexer": "ipython3",
   "version": "3.13.1"
  }
 },
 "nbformat": 4,
 "nbformat_minor": 5
}
