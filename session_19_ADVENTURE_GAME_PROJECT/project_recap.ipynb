{
 "cells": [
  {
   "cell_type": "code",
   "execution_count": 5,
   "id": "86bc1dce",
   "metadata": {},
   "outputs": [
    {
     "name": "stdout",
     "output_type": "stream",
     "text": [
      "dgdfgvsdfsijalkjzklzlkxmlzkmlzdxjmklsdcsd\n",
      "Hesdfdhbvglcsijkfjknjnlnklo\n",
      "Heszjnxkjcnzxjkcnzxjkcjkxcndfdchbvjhllo\n",
      "Hello\n",
      "Hello\n",
      "Hello\n",
      "Hello\n",
      "Hello\n"
     ]
    }
   ],
   "source": [
    "# The game gives players a description of what is happening.\n",
    "# pause between print statement\n",
    "import time\n",
    "\n",
    "\n",
    "def print_pause(msg):\n",
    "    print(msg)\n",
    "    time.sleep(1)\n",
    "\n",
    "t = 1\n",
    "print(\"dgdfgvsdfsijalkjzklzlkxmlzkmlzdxjmklsdcsd\")\n",
    "time.sleep(t)\n",
    "print(\"Hesdfdhbvglcsijkfjknjnlnklo\")\n",
    "time.sleep(t)\n",
    "print(\"Heszjnxkjcnzxjkcnzxjkcjkxcndfdchbvjhllo\")\n",
    "time.sleep(t)\n",
    "print(\"Hello\")\n",
    "time.sleep(t)\n",
    "print(\"Hello\")\n",
    "time.sleep(t)\n",
    "print(\"Hello\")\n",
    "time.sleep(t)\n",
    "print(\"Hello\")\n",
    "time.sleep(t)\n",
    "print(\"Hello\")\n",
    "time.sleep(t)\n"
   ]
  },
  {
   "cell_type": "code",
   "execution_count": null,
   "id": "891e9e82",
   "metadata": {},
   "outputs": [
    {
     "name": "stdout",
     "output_type": "stream",
     "text": [
      "Hello\n",
      "Hello\n",
      "Hello\n",
      "Hello\n",
      "Hello\n",
      "Hello\n",
      "Hello\n",
      "Hello\n",
      "Hello\n"
     ]
    }
   ],
   "source": [
    "def print_pause(msg):\n",
    "    print(msg)\n",
    "    time.sleep(1)\n",
    "\n",
    "print_pause(\"Hello\")\n",
    "print_pause(\"Hello\")\n",
    "print_pause(\"Hello\")\n",
    "print_pause(\"Hello\")\n",
    "print_pause(\"Hello\")\n",
    "print_pause(\"Hello\")\n",
    "print_pause(\"Hello\")\n",
    "print_pause(\"Hello\")\n",
    "print_pause(\"Hello\")"
   ]
  },
  {
   "cell_type": "code",
   "execution_count": 8,
   "id": "25327c0b",
   "metadata": {},
   "outputs": [
    {
     "name": "stdout",
     "output_type": "stream",
     "text": [
      "Hello\n"
     ]
    }
   ],
   "source": [
    "\n",
    "def print_with_pause(msg):\n",
    "    print(msg)\n",
    "    time.sleep(1)\n",
    "    \n",
    "print_with_pause(\"Hello\")\n",
    "\n",
    "\n"
   ]
  },
  {
   "cell_type": "code",
   "execution_count": null,
   "id": "1361173e",
   "metadata": {},
   "outputs": [],
   "source": [
    "def yassin_function(msg):\n",
    "    # this function display text with time pause\n",
    "    print(msg)\n",
    "    time.sleep(1)\n",
    "\n",
    "yassin_function(\"hello\")\n",
    "\n",
    "yassin_function(\"hello\")\n",
    "\n",
    "yassin_function(\"hello\")\n"
   ]
  },
  {
   "cell_type": "code",
   "execution_count": null,
   "id": "f28e38d8",
   "metadata": {},
   "outputs": [
    {
     "name": "stdout",
     "output_type": "stream",
     "text": [
      "hello\n",
      "world\n"
     ]
    }
   ],
   "source": [
    "def print_multiple_msg(*msgs):\n",
    "    # this is a variadic function\n",
    "    for msg in msgs:\n",
    "        print(msg)\n",
    "        time.sleep(1)\n",
    "\n",
    "print_multiple_msg(\"hello\", 'world')"
   ]
  },
  {
   "cell_type": "code",
   "execution_count": null,
   "id": "749e3a2f",
   "metadata": {},
   "outputs": [],
   "source": [
    "for i in range(0,):\n",
    "    print(0)\n"
   ]
  },
  {
   "cell_type": "code",
   "execution_count": 13,
   "id": "367fce9a",
   "metadata": {},
   "outputs": [],
   "source": [
    "import random\n",
    "import time"
   ]
  },
  {
   "cell_type": "code",
   "execution_count": null,
   "id": "a6935c03",
   "metadata": {},
   "outputs": [
    {
     "name": "stdout",
     "output_type": "stream",
     "text": [
      "Hello\n",
      "Hello\n"
     ]
    }
   ],
   "source": [
    "print(\"Hello\")\n",
    "print('Hello')"
   ]
  },
  {
   "cell_type": "code",
   "execution_count": 21,
   "id": "f92f360a",
   "metadata": {},
   "outputs": [
    {
     "name": "stdout",
     "output_type": "stream",
     "text": [
      "Hello world\n"
     ]
    }
   ],
   "source": [
    "print(\"Hello \" \n",
    "       \"world\")\n"
   ]
  },
  {
   "cell_type": "code",
   "execution_count": 25,
   "id": "be6af3ae",
   "metadata": {},
   "outputs": [
    {
     "name": "stdout",
     "output_type": "stream",
     "text": [
      "The game starts\n",
      "You score is -1\n",
      "You are in the house\n",
      "You score is -2\n",
      "Your final score is -2\n",
      "You lost!!\n"
     ]
    }
   ],
   "source": [
    "import random\n",
    "import time\n",
    "\n",
    "\n",
    "def cave(score):\n",
    "    \n",
    "    print_pause(\"You are in the cave\")\n",
    "    score += 1\n",
    "    print_pause(f\"You score is {score}\")\n",
    "\n",
    "    return score\n",
    "\n",
    "\n",
    "def house(score):\n",
    "    print_pause(\"You are in the house\")\n",
    "    score -= 1\n",
    "    print_pause(f\"You score is {score}\")\n",
    "    return score\n",
    "\n",
    "\n",
    "\n",
    "print_pause(\"The game starts\")\n",
    "total_score = 0\n",
    "n = input(\"Enter 1 or 2\")\n",
    "if n == '1':\n",
    "    total_score += 1\n",
    "    print_pause(f\"You score is {total_score}\")\n",
    "    total_score = cave(total_score)\n",
    "else:\n",
    "    total_score -= 1\n",
    "    print_pause(f\"You score is {total_score}\")\n",
    "    total_score = house(total_score)\n",
    "print_pause(f\"Your final score is {total_score}\")\n",
    "if total_score > 1 :\n",
    "    print_pause(\"You won!!!\")\n",
    "else:\n",
    "    print_pause(\"You lost!!\")\n"
   ]
  }
 ],
 "metadata": {
  "kernelspec": {
   "display_name": "Python 3",
   "language": "python",
   "name": "python3"
  },
  "language_info": {
   "codemirror_mode": {
    "name": "ipython",
    "version": 3
   },
   "file_extension": ".py",
   "mimetype": "text/x-python",
   "name": "python",
   "nbconvert_exporter": "python",
   "pygments_lexer": "ipython3",
   "version": "3.13.1"
  }
 },
 "nbformat": 4,
 "nbformat_minor": 5
}
