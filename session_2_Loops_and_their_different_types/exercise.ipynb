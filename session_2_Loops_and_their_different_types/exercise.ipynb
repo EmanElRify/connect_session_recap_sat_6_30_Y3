{
 "cells": [
  {
   "cell_type": "code",
   "execution_count": 24,
   "metadata": {},
   "outputs": [
    {
     "name": "stdout",
     "output_type": "stream",
     "text": [
      "[10, 20, 30, 40, 50, 60]\n"
     ]
    }
   ],
   "source": [
    "my_list = [10, 20, 30, 40, 50]\n",
    "my_list.append(60)\n",
    "print(my_list)"
   ]
  },
  {
   "cell_type": "code",
   "execution_count": null,
   "metadata": {},
   "outputs": [
    {
     "name": "stdout",
     "output_type": "stream",
     "text": [
      "[10, 20, 30, 40, 50]\n"
     ]
    }
   ],
   "source": [
    "my_list = [10, 20, 30, 40, 50, 30]\n",
    "my_list = my_list[::-1]\n",
    "my_list.remove(30)\n",
    "my_list = my_list[::-1]\n",
    "print(my_list)\n"
   ]
  },
  {
   "cell_type": "code",
   "execution_count": null,
   "metadata": {},
   "outputs": [
    {
     "name": "stdout",
     "output_type": "stream",
     "text": [
      "[10, 20, 30, 40, 50, 30, 30, 30]\n",
      "[10, 20, 40, 50, 30]\n"
     ]
    }
   ],
   "source": [
    "my_list = [10, 20, 30, 40, 50, 30, 30, 30]\n",
    "# my_list.remove(30)\n",
    "# my_list.remove(30)\n",
    "print(my_list)\n",
    "for i in my_list:  #This approach is not reliable\n",
    "    if i == 30:\n",
    "        my_list.remove(30)\n",
    "print(my_list)\n",
    "\n",
    "    \n",
    "    \n"
   ]
  },
  {
   "cell_type": "code",
   "execution_count": null,
   "metadata": {},
   "outputs": [
    {
     "name": "stdout",
     "output_type": "stream",
     "text": [
      "[10, 20, 40, 50]\n"
     ]
    }
   ],
   "source": [
    "my_list = [10, 20, 30, 40, 50, 30, 30, 30]\n",
    "modified_list = []\n",
    "for u in range(0,8,1): #(start, stop, step) \n",
    "    if my_list[u] != 30:\n",
    "        modified_list.append(my_list[u])\n",
    "print(modified_list)"
   ]
  },
  {
   "cell_type": "code",
   "execution_count": 31,
   "metadata": {},
   "outputs": [
    {
     "name": "stdout",
     "output_type": "stream",
     "text": [
      "0\n",
      "2\n",
      "4\n",
      "6\n"
     ]
    }
   ],
   "source": [
    "for u in range(0,8,2): #(start, stop, step) \n",
    "    print(u)"
   ]
  },
  {
   "cell_type": "code",
   "execution_count": null,
   "metadata": {},
   "outputs": [],
   "source": [
    "my_list = [10, 20, 30, 40, 50]\n",
    "print(my_list[2])\n"
   ]
  },
  {
   "cell_type": "code",
   "execution_count": null,
   "metadata": {},
   "outputs": [],
   "source": [
    "my_list = [10, 20, 30, 40, 50]\n",
    "print(my_list[1:4])\n"
   ]
  },
  {
   "cell_type": "code",
   "execution_count": null,
   "metadata": {},
   "outputs": [],
   "source": [
    "my_list = [10, 20, 30, 40, 50]\n",
    "my_list[0] = 5\n",
    "print(my_list)"
   ]
  },
  {
   "cell_type": "code",
   "execution_count": null,
   "metadata": {},
   "outputs": [],
   "source": [
    "my_list = [10, 20, 30, 40, 50]\n",
    "new_list = [70, 80, 90]\n",
    "combined_list = my_list + new_list\n",
    "print(combined_list)\n"
   ]
  },
  {
   "cell_type": "code",
   "execution_count": null,
   "metadata": {},
   "outputs": [],
   "source": [
    "print(len(my_list))"
   ]
  },
  {
   "cell_type": "code",
   "execution_count": null,
   "metadata": {},
   "outputs": [],
   "source": [
    "x = [1, 2, 3 , 4 , 5]\n",
    "for i in x:\n",
    "   print(i)\n",
    "   print('--------')"
   ]
  },
  {
   "cell_type": "code",
   "execution_count": null,
   "metadata": {},
   "outputs": [],
   "source": [
    "x = [1, 2, 3 , 4]\n",
    "for i in x:\n",
    "   print(i)\n",
    "   print('--------')\n"
   ]
  },
  {
   "cell_type": "code",
   "execution_count": null,
   "metadata": {},
   "outputs": [],
   "source": [
    "x = [1, 2, 3 , 4]\n",
    "for i in x:\n",
    "   print(i)\n",
    "   print('--------')\n",
    "   for y in [1,2]:\n",
    "       print(y)\n",
    "       print('**')\n"
   ]
  },
  {
   "cell_type": "code",
   "execution_count": null,
   "metadata": {},
   "outputs": [
    {
     "name": "stdout",
     "output_type": "stream",
     "text": [
      "Hi Mohamed,\n",
      "You are invited to my party!\n",
      "Hi Mohamed!\n"
     ]
    }
   ],
   "source": [
    "Guest_1 = \"Mohamed\"\n",
    "# Hi Mohamed,\n",
    "print(\"Hi \" +Guest_1+\",\\nYou are invited to my party!\")\n",
    "print(f\"Hi {Guest_1}!\")"
   ]
  },
  {
   "cell_type": "code",
   "execution_count": 15,
   "metadata": {},
   "outputs": [
    {
     "name": "stdout",
     "output_type": "stream",
     "text": [
      "Hi Mohamed,\n",
      "You are invited to my party!\n",
      "Hi Youssef,\n",
      "You are invited to my party!\n",
      "Hi Ali,\n",
      "You are invited to my party!\n",
      "Hi Mariam,\n",
      "You are invited to my party!\n",
      "Hi Reem,\n",
      "You are invited to my party!\n",
      "Hi Sara,\n",
      "You are invited to my party!\n"
     ]
    }
   ],
   "source": [
    "Guest_1 = \"Mohamed\"\n",
    "print(\"Hi \" +Guest_1+\",\")\n",
    "print(\"You are invited to my party!\")\n",
    "Guest_2 = \"Youssef\"\n",
    "print(\"Hi \" +Guest_2+\",\")\n",
    "print(\"You are invited to my party!\")\n",
    "Guest_3 = \"Ali\"\n",
    "print(\"Hi \" +Guest_3+\",\")\n",
    "print(\"You are invited to my party!\")\n",
    "Guest_4 = \"Mariam\"\n",
    "print(\"Hi \" +Guest_4+\",\")\n",
    "print(\"You are invited to my party!\")\n",
    "Guest_5 = \"Reem\"\n",
    "print(\"Hi \" +Guest_5+\",\")\n",
    "print(\"You are invited to my party!\")\n",
    "Guest_6 = \"Sara\"\n",
    "print(\"Hi \" +Guest_6+\",\")\n",
    "print(\"You are invited to my party!\")\n"
   ]
  },
  {
   "cell_type": "code",
   "execution_count": 23,
   "metadata": {},
   "outputs": [
    {
     "name": "stdout",
     "output_type": "stream",
     "text": [
      "Hi Mohamed,\n",
      "You are invited to my party!\n"
     ]
    }
   ],
   "source": [
    "Guests = [\"Mohamed\", \"Youssef\", \"Ali\", \"Mariam\", \"Reem\", \"Sara\"]\n",
    "print(\"Hi \" + Guests[-6]+\",\" )\n",
    "print(\"You are invited to my party!\")"
   ]
  },
  {
   "cell_type": "code",
   "execution_count": null,
   "metadata": {},
   "outputs": [
    {
     "name": "stdout",
     "output_type": "stream",
     "text": [
      "Hi Mohamed,\n",
      "You are invited to my party!\n",
      "Hi Youssef,\n",
      "You are invited to my party!\n",
      "Hi Ali,\n",
      "You are invited to my party!\n",
      "Hi Mariam,\n",
      "You are invited to my party!\n",
      "Hi Reem,\n",
      "You are invited to my party!\n",
      "Hi Sara,\n",
      "You are invited to my party!\n"
     ]
    }
   ],
   "source": [
    "Guests = [\"Mohamed\", \"Youssef\", \"Ali\", \"Mariam\", \"Reem\", \"Sara\"]\n",
    "\n",
    "for i in range(0,6,1):\n",
    "    print(\"Hi \"+Guests[i]+\",\\nYou are invited to my party!\")\n",
    "    "
   ]
  },
  {
   "cell_type": "code",
   "execution_count": 37,
   "metadata": {},
   "outputs": [
    {
     "name": "stdout",
     "output_type": "stream",
     "text": [
      "Hi Mohamed,\n",
      "You are invited to my party!\n",
      "Hi Youssef,\n",
      "You are invited to my party!\n",
      "Hi Ali,\n",
      "You are invited to my party!\n",
      "Hi Mariam,\n",
      "You are invited to my party!\n",
      "Hi Reem,\n",
      "You are invited to my party!\n",
      "Hi Sara,\n",
      "You are invited to my party!\n"
     ]
    }
   ],
   "source": [
    "Guests = [\"Mohamed\", \"Youssef\", \"Ali\", \"Mariam\", \"Reem\", \"Sara\"]\n",
    "i = 0\n",
    "n = 6\n",
    "while i < n:\n",
    "    print(\"Hi \"+Guests[i]+\",\\nYou are invited to my party!\")\n",
    "    i += 1"
   ]
  },
  {
   "cell_type": "code",
   "execution_count": 38,
   "metadata": {},
   "outputs": [
    {
     "name": "stdout",
     "output_type": "stream",
     "text": [
      "Hi Mohamed,\n",
      "You are invited to my Party!\n",
      "Hi Youssef,\n",
      "You are invited to my Party!\n",
      "Hi Ali,\n",
      "You are invited to my Party!\n",
      "Hi Mariam,\n",
      "You are invited to my Party!\n",
      "Hi Reem,\n",
      "You are invited to my Party!\n",
      "Hi Sara,\n",
      "You are invited to my Party!\n"
     ]
    }
   ],
   "source": [
    "for i in Guests:\n",
    "    print(\"Hi \"+i+\",\\nYou are invited to my Party!\")"
   ]
  },
  {
   "cell_type": "code",
   "execution_count": null,
   "metadata": {},
   "outputs": [],
   "source": [
    "i = i + 1\n",
    "i += 1"
   ]
  },
  {
   "cell_type": "code",
   "execution_count": 10,
   "metadata": {},
   "outputs": [
    {
     "name": "stdout",
     "output_type": "stream",
     "text": [
      "Hi Mohamed\n"
     ]
    }
   ],
   "source": [
    "print(\"Hi \"\"Mohamed\")"
   ]
  }
 ],
 "metadata": {
  "kernelspec": {
   "display_name": "Python 3",
   "language": "python",
   "name": "python3"
  },
  "language_info": {
   "codemirror_mode": {
    "name": "ipython",
    "version": 3
   },
   "file_extension": ".py",
   "mimetype": "text/x-python",
   "name": "python",
   "nbconvert_exporter": "python",
   "pygments_lexer": "ipython3",
   "version": "3.10.7"
  }
 },
 "nbformat": 4,
 "nbformat_minor": 2
}
